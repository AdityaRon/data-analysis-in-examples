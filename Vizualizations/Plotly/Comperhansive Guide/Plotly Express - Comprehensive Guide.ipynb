{
 "cells": [
  {
   "cell_type": "markdown",
   "metadata": {
    "ExecuteTime": {
     "end_time": "2020-10-14T21:08:19.854524Z",
     "start_time": "2020-10-14T21:08:19.851532Z"
    }
   },
   "source": [
    "# Plotly.Express - The Comprehensive guide\n",
    "In this notebook, which complements an article on towardsdatascience.com, you will learn all you wanted to know about the Plotly.Express, a higher level API of Plotly specially designed to work with the Data Frames. The chart in this notebook are not rendered on purpose, because Github cannot shows these renders. Please run all the cells to see the plots. \n",
    "\n",
    "## installation\n",
    "You can learn all about the installation in the article. You have to install pandas too, in order to make Plotly Express working. "
   ]
  },
  {
   "cell_type": "code",
   "execution_count": 1,
   "metadata": {
    "ExecuteTime": {
     "end_time": "2020-10-15T13:01:01.837349Z",
     "start_time": "2020-10-15T13:01:01.418468Z"
    }
   },
   "outputs": [],
   "source": [
    "import pandas as pd\n",
    "import plotly.express as px"
   ]
  },
  {
   "cell_type": "markdown",
   "metadata": {},
   "source": [
    "# The data\n",
    "The data were preprocessed using this notebook: \n",
    "https://github.com/vaclavdekanovsky/data-analysis-in-examples/blob/master/Vizualizations/Plotly/Preprocess/Preprocessing.ipynb"
   ]
  },
  {
   "cell_type": "code",
   "execution_count": 2,
   "metadata": {
    "ExecuteTime": {
     "end_time": "2020-10-15T13:01:01.867845Z",
     "start_time": "2020-10-15T13:01:01.838345Z"
    }
   },
   "outputs": [],
   "source": [
    "year_columns = pd.read_pickle(\"arr.plk\")\n",
    "country_columns = year_columns.set_index(\"Country Name\").T\n",
    "rec = pd.read_pickle(\"rec.plk\")"
   ]
  },
  {
   "cell_type": "markdown",
   "metadata": {},
   "source": [
    "# Line Chart\n",
    "Let's start to explore the Plotly Database using the line chart. The regular syntax for any Plotly.Exress chart is `px.chart_type(df, parameters)` so for the line chart it's `px.line(df, parameters)`. \n",
    "\n",
    "There're always the three ways how to create the plot. Check yourself, but I think the first one makes the most sense. "
   ]
  },
  {
   "cell_type": "code",
   "execution_count": null,
   "metadata": {
    "ExecuteTime": {
     "end_time": "2020-10-15T13:01:02.382062Z",
     "start_time": "2020-10-15T13:01:01.869843Z"
    }
   },
   "outputs": [],
   "source": [
    "\"\"\"our dataset comes as a wide dataset with years as column. To turn the country names into the columns, we must set them as index and transpose the frame.\"\"\"\n",
    "country_columns = year_columns.set_index(\"Country Name\").T\n",
    "# 1. I had to reshape the data by transposing\n",
    "px.line(country_columns\n",
    "        ,y=\"Spain\"\n",
    "        ,title=\"Visitors to Spain\")\n"
   ]
  },
  {
   "cell_type": "code",
   "execution_count": null,
   "metadata": {
    "ExecuteTime": {
     "end_time": "2020-10-15T13:01:02.427940Z",
     "start_time": "2020-10-15T13:01:02.384082Z"
    }
   },
   "outputs": [],
   "source": [
    "# 2. you can specify the value as pandas.Series as well\n",
    "px.line(country_columns, \n",
    "        y=country_columns[\"Spain\"],\n",
    "       title=\"Visitors to Spain\")"
   ]
  },
  {
   "cell_type": "code",
   "execution_count": null,
   "metadata": {
    "ExecuteTime": {
     "end_time": "2020-10-15T13:01:02.475811Z",
     "start_time": "2020-10-15T13:01:02.428937Z"
    }
   },
   "outputs": [],
   "source": [
    "# 3. or any array. In this case you must specify y-label. \n",
    "px.line(country_columns, \n",
    "        y=country_columns[\"Spain\"].to_list(), \n",
    "        labels={\"y\":\"Spain\"},\n",
    "       title=\"Visitors to Spain\")"
   ]
  },
  {
   "cell_type": "markdown",
   "metadata": {
    "ExecuteTime": {
     "end_time": "2020-10-15T12:17:43.895039Z",
     "start_time": "2020-10-15T12:17:43.882051Z"
    }
   },
   "source": [
    "On background, each graph is a dictionary. You can store the chart into a variable, commonly fig and display this dictionary using `fig.to_dict()` or `fig[\"data\"]` or `fig.data` to see the elements data or `fig[\"layout\"]` to review the design of the plot."
   ]
  },
  {
   "cell_type": "code",
   "execution_count": 6,
   "metadata": {
    "ExecuteTime": {
     "end_time": "2020-10-15T13:01:02.523683Z",
     "start_time": "2020-10-15T13:01:02.476808Z"
    }
   },
   "outputs": [
    {
     "data": {
      "text/plain": [
       "((Scatter({\n",
       "      'hovertemplate': 'index=%{x}<br>Spain=%{y}<extra></extra>',\n",
       "      'legendgroup': '',\n",
       "      'line': {'color': '#636efa', 'dash': 'solid'},\n",
       "      'mode': 'lines',\n",
       "      'name': '',\n",
       "      'orientation': 'v',\n",
       "      'showlegend': False,\n",
       "      'x': array(['Country Code', '1995', '1996', '1997', '1998', '1999', '2000', '2001',\n",
       "                  '2002', '2003', '2004', '2005', '2006', '2007', '2008', '2009', '2010',\n",
       "                  '2011', '2012', '2013', '2014', '2015', '2016', '2017', '2018',\n",
       "                  'Region'], dtype=object),\n",
       "      'xaxis': 'x',\n",
       "      'y': array(['ESP', 32971000.0, 34027000.0, 39553000.0, 41892000.0, 45440000.0,\n",
       "                  46403000.0, 48565000.0, 50331000.0, 50854000.0, 52430000.0, 55914000.0,\n",
       "                  58004000.0, 58666000.0, 57192000.0, 52178000.0, 52677000.0, 56177000.0,\n",
       "                  57464000.0, 60675000.0, 64939000.0, 68175000.0, 75315000.0, 81869000.0,\n",
       "                  82773000.0, 'Europe & Central Asia'], dtype=object),\n",
       "      'yaxis': 'y'\n",
       "  }),),\n",
       " Layout({\n",
       "     'legend': {'tracegroupgap': 0},\n",
       "     'template': '...',\n",
       "     'title': {'text': 'Visitors to Spain'},\n",
       "     'xaxis': {'anchor': 'y', 'domain': [0.0, 1.0], 'title': {'text': 'index'}},\n",
       "     'yaxis': {'anchor': 'x', 'domain': [0.0, 1.0], 'title': {'text': 'Spain'}}\n",
       " }))"
      ]
     },
     "execution_count": 6,
     "metadata": {},
     "output_type": "execute_result"
    }
   ],
   "source": [
    "fig = px.line(country_columns, \n",
    "        y=country_columns[\"Spain\"],\n",
    "       title=\"Visitors to Spain\")\n",
    "fig.data, fig.layout"
   ]
  },
  {
   "cell_type": "markdown",
   "metadata": {
    "ExecuteTime": {
     "end_time": "2020-10-15T12:23:21.342947Z",
     "start_time": "2020-10-15T12:23:21.331977Z"
    }
   },
   "source": [
    "## Layout Basics\n",
    "In the examples above, we plot the charts immediately using `px.line(df, params)`, but in order to influence the other parts of the plot, you can assign it into the a variable. As standard `fig = px.chart_type()` is used. In such a case, you render the plot using `fig.show()`"
   ]
  },
  {
   "cell_type": "code",
   "execution_count": null,
   "metadata": {
    "ExecuteTime": {
     "end_time": "2020-10-15T13:01:02.584520Z",
     "start_time": "2020-10-15T13:01:02.524681Z"
    }
   },
   "outputs": [],
   "source": [
    "fig = px.line(country_columns, \n",
    "        y=country_columns[\"Spain\"].to_list(), \n",
    "        labels={\"y\":\"Spain\"},\n",
    "       title=\"Visitors to Spain\")\n",
    "fig.update_layout(template=\"plotly_dark\")\n",
    "fig.show()"
   ]
  },
  {
   "cell_type": "markdown",
   "metadata": {
    "ExecuteTime": {
     "end_time": "2020-10-15T12:30:50.694556Z",
     "start_time": "2020-10-15T12:30:50.689568Z"
    }
   },
   "source": [
    "Rarely you have an option to use multiple columns as input to one of the Plotly parameters. If I'm using `country_columns` data frame which has a column for each country, when I input `y=[\"Spain\",\"Italy\",\"France\"]` three lines will be drawn. "
   ]
  },
  {
   "cell_type": "code",
   "execution_count": null,
   "metadata": {
    "ExecuteTime": {
     "end_time": "2020-10-15T13:01:02.645358Z",
     "start_time": "2020-10-15T13:01:02.587512Z"
    }
   },
   "outputs": [],
   "source": [
    "px.line(country_columns, y=[\"Spain\",\"Italy\",\"France\"], title=\"International Visitors\")"
   ]
  },
  {
   "cell_type": "markdown",
   "metadata": {},
   "source": [
    "But trying to use multiple columns for any other parameter leads to an error."
   ]
  },
  {
   "cell_type": "code",
   "execution_count": 9,
   "metadata": {
    "ExecuteTime": {
     "end_time": "2020-10-15T13:01:02.661314Z",
     "start_time": "2020-10-15T13:01:02.646356Z"
    }
   },
   "outputs": [
    {
     "name": "stdout",
     "output_type": "stream",
     "text": [
      "All arguments should have the same length. The length of argument `wide_cross` is 26, whereas the length of  previously-processed arguments ['text'] is 3\n"
     ]
    }
   ],
   "source": [
    "try: \n",
    "    px.line(country_columns, y=[\"Spain\",\"Italy\",\"France\"], \n",
    "            text=[\"Spain\",\"Italy\",\"France\"])\n",
    "except Exception as e:\n",
    "    print(e)"
   ]
  },
  {
   "cell_type": "markdown",
   "metadata": {},
   "source": [
    "You can try some workaround, but they won't create a chart with 3 lines with data value labels. "
   ]
  },
  {
   "cell_type": "code",
   "execution_count": null,
   "metadata": {
    "ExecuteTime": {
     "end_time": "2020-10-15T13:01:02.724147Z",
     "start_time": "2020-10-15T13:01:02.662314Z"
    }
   },
   "outputs": [],
   "source": [
    "fig = px.line(country_columns, y=[\"Spain\",\"Italy\",\"France\"], \n",
    "                text=\"Spain\",\n",
    "             title=\"Impossible with wide data\")\n",
    "\n",
    "fig.update_traces(texttemplate='%{text:.2s}', textposition=\"top center\")"
   ]
  },
  {
   "cell_type": "markdown",
   "metadata": {},
   "source": [
    "To get the most from Plotly.Express, it's preferable to use the long dataframe. From the wide dataframe you achive it using the `df.melt()` function"
   ]
  },
  {
   "cell_type": "code",
   "execution_count": 11,
   "metadata": {
    "ExecuteTime": {
     "end_time": "2020-10-15T13:01:02.755065Z",
     "start_time": "2020-10-15T13:01:02.725145Z"
    }
   },
   "outputs": [
    {
     "data": {
      "text/html": [
       "<div>\n",
       "<style scoped>\n",
       "    .dataframe tbody tr th:only-of-type {\n",
       "        vertical-align: middle;\n",
       "    }\n",
       "\n",
       "    .dataframe tbody tr th {\n",
       "        vertical-align: top;\n",
       "    }\n",
       "\n",
       "    .dataframe thead th {\n",
       "        text-align: right;\n",
       "    }\n",
       "</style>\n",
       "<table border=\"1\" class=\"dataframe\">\n",
       "  <thead>\n",
       "    <tr style=\"text-align: right;\">\n",
       "      <th></th>\n",
       "      <th>Country Name</th>\n",
       "      <th>Country Code</th>\n",
       "      <th>Region</th>\n",
       "      <th>years</th>\n",
       "      <th>visitors</th>\n",
       "    </tr>\n",
       "  </thead>\n",
       "  <tbody>\n",
       "    <tr>\n",
       "      <th>0</th>\n",
       "      <td>Aruba</td>\n",
       "      <td>ABW</td>\n",
       "      <td>Latin America &amp; Caribbean</td>\n",
       "      <td>1995</td>\n",
       "      <td>619000.0</td>\n",
       "    </tr>\n",
       "    <tr>\n",
       "      <th>1</th>\n",
       "      <td>Afghanistan</td>\n",
       "      <td>AFG</td>\n",
       "      <td>South Asia</td>\n",
       "      <td>1995</td>\n",
       "      <td>NaN</td>\n",
       "    </tr>\n",
       "    <tr>\n",
       "      <th>2</th>\n",
       "      <td>Angola</td>\n",
       "      <td>AGO</td>\n",
       "      <td>Sub-Saharan Africa</td>\n",
       "      <td>1995</td>\n",
       "      <td>9000.0</td>\n",
       "    </tr>\n",
       "    <tr>\n",
       "      <th>3</th>\n",
       "      <td>Albania</td>\n",
       "      <td>ALB</td>\n",
       "      <td>Europe &amp; Central Asia</td>\n",
       "      <td>1995</td>\n",
       "      <td>NaN</td>\n",
       "    </tr>\n",
       "    <tr>\n",
       "      <th>4</th>\n",
       "      <td>Andorra</td>\n",
       "      <td>AND</td>\n",
       "      <td>Europe &amp; Central Asia</td>\n",
       "      <td>1995</td>\n",
       "      <td>NaN</td>\n",
       "    </tr>\n",
       "    <tr>\n",
       "      <th>...</th>\n",
       "      <td>...</td>\n",
       "      <td>...</td>\n",
       "      <td>...</td>\n",
       "      <td>...</td>\n",
       "      <td>...</td>\n",
       "    </tr>\n",
       "    <tr>\n",
       "      <th>5155</th>\n",
       "      <td>Samoa</td>\n",
       "      <td>WSM</td>\n",
       "      <td>East Asia &amp; Pacific</td>\n",
       "      <td>2018</td>\n",
       "      <td>164000.0</td>\n",
       "    </tr>\n",
       "    <tr>\n",
       "      <th>5156</th>\n",
       "      <td>Yemen, Rep.</td>\n",
       "      <td>YEM</td>\n",
       "      <td>Middle East &amp; North Africa</td>\n",
       "      <td>2018</td>\n",
       "      <td>NaN</td>\n",
       "    </tr>\n",
       "    <tr>\n",
       "      <th>5157</th>\n",
       "      <td>South Africa</td>\n",
       "      <td>ZAF</td>\n",
       "      <td>Sub-Saharan Africa</td>\n",
       "      <td>2018</td>\n",
       "      <td>10472000.0</td>\n",
       "    </tr>\n",
       "    <tr>\n",
       "      <th>5158</th>\n",
       "      <td>Zambia</td>\n",
       "      <td>ZMB</td>\n",
       "      <td>Sub-Saharan Africa</td>\n",
       "      <td>2018</td>\n",
       "      <td>1072000.0</td>\n",
       "    </tr>\n",
       "    <tr>\n",
       "      <th>5159</th>\n",
       "      <td>Zimbabwe</td>\n",
       "      <td>ZWE</td>\n",
       "      <td>Sub-Saharan Africa</td>\n",
       "      <td>2018</td>\n",
       "      <td>2580000.0</td>\n",
       "    </tr>\n",
       "  </tbody>\n",
       "</table>\n",
       "<p>5160 rows × 5 columns</p>\n",
       "</div>"
      ],
      "text/plain": [
       "      Country Name Country Code                      Region years    visitors\n",
       "0            Aruba          ABW   Latin America & Caribbean  1995    619000.0\n",
       "1      Afghanistan          AFG                  South Asia  1995         NaN\n",
       "2           Angola          AGO          Sub-Saharan Africa  1995      9000.0\n",
       "3          Albania          ALB       Europe & Central Asia  1995         NaN\n",
       "4          Andorra          AND       Europe & Central Asia  1995         NaN\n",
       "...            ...          ...                         ...   ...         ...\n",
       "5155         Samoa          WSM         East Asia & Pacific  2018    164000.0\n",
       "5156   Yemen, Rep.          YEM  Middle East & North Africa  2018         NaN\n",
       "5157  South Africa          ZAF          Sub-Saharan Africa  2018  10472000.0\n",
       "5158        Zambia          ZMB          Sub-Saharan Africa  2018   1072000.0\n",
       "5159      Zimbabwe          ZWE          Sub-Saharan Africa  2018   2580000.0\n",
       "\n",
       "[5160 rows x 5 columns]"
      ]
     },
     "execution_count": 11,
     "metadata": {},
     "output_type": "execute_result"
    }
   ],
   "source": [
    "melted_df = year_columns.melt(id_vars=[\"Country Name\",\"Country Code\",\"Region\"], \n",
    "                              var_name=\"years\",\n",
    "                             value_name=\"visitors\")\n",
    "melted_df"
   ]
  },
  {
   "cell_type": "markdown",
   "metadata": {},
   "source": [
    "Now you can assign one column to each paramter. In case you want to limit the scope to just 3 of 215 countries, let's filter them in advance. "
   ]
  },
  {
   "cell_type": "code",
   "execution_count": 12,
   "metadata": {
    "ExecuteTime": {
     "end_time": "2020-10-15T13:01:02.771022Z",
     "start_time": "2020-10-15T13:01:02.756078Z"
    }
   },
   "outputs": [],
   "source": [
    "spfrit = melted_df[melted_df[\"Country Name\"].isin([\"Spain\",\"Italy\",\"France\"])]"
   ]
  },
  {
   "cell_type": "code",
   "execution_count": null,
   "metadata": {
    "ExecuteTime": {
     "end_time": "2020-10-15T13:01:02.818895Z",
     "start_time": "2020-10-15T13:01:02.772020Z"
    }
   },
   "outputs": [],
   "source": [
    "# by assigning single column to each parameter you can achieve almost every chart design. \n",
    "fig = px.line(spfrit, \n",
    "        x=\"years\", \n",
    "        y=\"visitors\", \n",
    "        color=\"Country Name\", \n",
    "        text=\"visitors\",\n",
    "       title=\"International Visitors\")\n",
    "\n",
    "fig.update_traces(texttemplate='%{text:.2s}', textposition=\"top center\")"
   ]
  },
  {
   "cell_type": "markdown",
   "metadata": {
    "ExecuteTime": {
     "end_time": "2020-10-15T12:43:59.792523Z",
     "start_time": "2020-10-15T12:43:59.773574Z"
    }
   },
   "source": [
    "### Tooltips\n",
    "* `hover_name` - highlights value of this column on the top of the tooltip\n",
    "* `hover_data` - let you add or remove tooltips by setting them True/False\n",
    "* `labels` - let you rename the column names inside the tooltip\n",
    "\n",
    "You can also use the icons in the Plotly interactive menu to change between single tooltip appearing or a tooltip for all the lines at the `x` coordinate you hover over - `show closest data on hover` vs `compare data on hover` icons."
   ]
  },
  {
   "cell_type": "code",
   "execution_count": null,
   "metadata": {
    "ExecuteTime": {
     "end_time": "2020-10-15T13:01:02.880729Z",
     "start_time": "2020-10-15T13:01:02.820892Z"
    }
   },
   "outputs": [],
   "source": [
    "fig = px.line(melted_df[melted_df[\"Country Name\"].isin([\"France\",\"Italy\",\"Spain\"])], \n",
    "        x=\"years\", \n",
    "        y=\"visitors\", \n",
    "        color=\"Country Name\", \n",
    "        hover_name=\"Country Name\",\n",
    "        text=\"visitors\",\n",
    "        hover_data = {\"Country Name\": False,\n",
    "                     \"Country Code\": True},\n",
    "        labels={\"Country Code\": \"Code\"},\n",
    "        title=\"International Visitors\")\n",
    "fig.update_traces(texttemplate='%{text:.2s}', textposition=\"top center\")"
   ]
  },
  {
   "cell_type": "markdown",
   "metadata": {
    "ExecuteTime": {
     "end_time": "2020-08-28T23:04:38.799636Z",
     "start_time": "2020-08-28T23:04:38.794667Z"
    }
   },
   "source": [
    "## Parameter - facet_row and facet_col\n",
    "split the chart into rows or columns"
   ]
  },
  {
   "cell_type": "code",
   "execution_count": null,
   "metadata": {
    "ExecuteTime": {
     "end_time": "2020-10-15T13:01:02.942565Z",
     "start_time": "2020-10-15T13:01:02.881727Z"
    }
   },
   "outputs": [],
   "source": [
    "px.line(melted_df[melted_df[\"Country Name\"].isin([\"France\",\"Italy\",\"Spain\"])], \n",
    "        x=\"years\", \n",
    "        y=\"visitors\", \n",
    "        facet_col =\"Country Name\", \n",
    "        color=\"Country Name\",\n",
    "       title=\"International Visitors\")"
   ]
  },
  {
   "cell_type": "markdown",
   "metadata": {
    "ExecuteTime": {
     "end_time": "2020-08-28T22:03:34.181238Z",
     "start_time": "2020-08-28T22:03:34.177249Z"
    }
   },
   "source": [
    "## Parameter - color_discrete_sequence\n",
    "To set up the exact color of each line using a list of colors"
   ]
  },
  {
   "cell_type": "code",
   "execution_count": null,
   "metadata": {
    "ExecuteTime": {
     "end_time": "2020-10-15T13:01:03.019365Z",
     "start_time": "2020-10-15T13:01:02.946555Z"
    }
   },
   "outputs": [],
   "source": [
    "px.line(melted_df[melted_df[\"Country Name\"].isin([\"France\",\"Italy\",\"Spain\"])], \n",
    "        x=\"years\", \n",
    "        y=\"visitors\", \n",
    "        facet_row =\"Country Name\", \n",
    "        color=\"Country Name\",\n",
    "       title=\"International Visitors\",\n",
    "       color_discrete_sequence  = [\"red\",\"yellow\"])"
   ]
  },
  {
   "cell_type": "markdown",
   "metadata": {
    "ExecuteTime": {
     "end_time": "2020-08-28T22:08:39.174975Z",
     "start_time": "2020-08-28T22:08:39.168961Z"
    }
   },
   "source": [
    "## Parameter - color_discrete_map\n",
    "To set up the exact color of each line using a dictionary"
   ]
  },
  {
   "cell_type": "code",
   "execution_count": null,
   "metadata": {
    "ExecuteTime": {
     "end_time": "2020-10-15T13:01:03.082190Z",
     "start_time": "2020-10-15T13:01:03.023350Z"
    }
   },
   "outputs": [],
   "source": [
    "px.line(melted_df[melted_df[\"Country Name\"].isin([\"France\",\"Italy\",\"Spain\"])], \n",
    "        x=\"years\", \n",
    "        y=\"visitors\", \n",
    "        facet_row =\"Country Name\", \n",
    "        color=\"Country Name\",\n",
    "       title=\"International Visitors\",\n",
    "       color_discrete_map  = {\"Spain\":\"Black\"})\n"
   ]
  },
  {
   "cell_type": "markdown",
   "metadata": {
    "ExecuteTime": {
     "end_time": "2020-08-28T22:08:59.207659Z",
     "start_time": "2020-08-28T22:08:59.203673Z"
    }
   },
   "source": [
    "## Parameter - line_group\n",
    "To separate the lines based on this column. Basically work the same as color, but all lines will have the same color"
   ]
  },
  {
   "cell_type": "code",
   "execution_count": null,
   "metadata": {
    "ExecuteTime": {
     "end_time": "2020-10-15T13:01:03.130062Z",
     "start_time": "2020-10-15T13:01:03.083187Z"
    }
   },
   "outputs": [],
   "source": [
    "px.line(melted_df[melted_df[\"Country Name\"].isin([\"France\",\"Italy\",\"Spain\"])], \n",
    "        x=\"years\", \n",
    "        y=\"visitors\", \n",
    "        line_group=\"Country Name\",\n",
    "       title=\"International Visitors\",\n",
    "        # you can use color_discrete_sequence to change the color, but only the first item in the list is considered\n",
    "       color_discrete_sequence  = [\"red\", \"yellow\"])"
   ]
  },
  {
   "cell_type": "markdown",
   "metadata": {
    "ExecuteTime": {
     "end_time": "2020-08-28T22:19:05.083922Z",
     "start_time": "2020-08-28T22:19:05.078937Z"
    }
   },
   "source": [
    "## Parameters - range_x, range_y\n",
    "Allowing to zoom into the plot. You can zoom out using `autoscale` icon in the Plotly interactive menu, which appear when you hover your mouse over the chart in the top right corner. "
   ]
  },
  {
   "cell_type": "code",
   "execution_count": null,
   "metadata": {
    "ExecuteTime": {
     "end_time": "2020-10-15T13:01:03.191929Z",
     "start_time": "2020-10-15T13:01:03.131061Z"
    }
   },
   "outputs": [],
   "source": [
    "px.line(melted_df[melted_df[\"Country Name\"].isin([\"France\",\"Italy\",\"Spain\"])], \n",
    "        x=\"years\", \n",
    "        y=\"visitors\", \n",
    "        color=\"Country Name\",\n",
    "        title=\"International Visitors\",\n",
    "        range_x=[2014,2018],\n",
    "        range_y=[50000000,90000000])"
   ]
  },
  {
   "cell_type": "markdown",
   "metadata": {
    "ExecuteTime": {
     "end_time": "2020-08-28T22:30:58.506542Z",
     "start_time": "2020-08-28T22:30:58.499564Z"
    }
   },
   "source": [
    "## Parameters - log_x, log_y\n",
    "Change the axes to log scale"
   ]
  },
  {
   "cell_type": "code",
   "execution_count": null,
   "metadata": {
    "ExecuteTime": {
     "end_time": "2020-10-15T13:01:03.239805Z",
     "start_time": "2020-10-15T13:01:03.192896Z"
    }
   },
   "outputs": [],
   "source": [
    "px.line(melted_df[melted_df[\"Country Name\"].isin([\"France\",\"Italy\",\"Spain\"])], \n",
    "        x=\"years\", \n",
    "        y=\"visitors\", \n",
    "        color=\"Country Name\",\n",
    "        title=\"International Visitors\",\n",
    "        log_x=True,\n",
    "        log_y=True)"
   ]
  },
  {
   "cell_type": "markdown",
   "metadata": {
    "ExecuteTime": {
     "end_time": "2020-08-28T22:42:17.030969Z",
     "start_time": "2020-08-28T22:42:17.023938Z"
    }
   },
   "source": [
    "## Parameters - line_dash\n",
    "Changes the dash pattern of the lines"
   ]
  },
  {
   "cell_type": "code",
   "execution_count": null,
   "metadata": {
    "ExecuteTime": {
     "end_time": "2020-10-15T13:01:03.286668Z",
     "start_time": "2020-10-15T13:01:03.240777Z"
    }
   },
   "outputs": [],
   "source": [
    "px.line(melted_df[melted_df[\"Country Name\"].isin([\"France\",\"Italy\",\"Spain\"])], \n",
    "        x=\"years\", \n",
    "        y=\"visitors\", \n",
    "        line_dash =\"Country Name\",\n",
    "        title=\"International Visitors\",)"
   ]
  },
  {
   "cell_type": "markdown",
   "metadata": {
    "ExecuteTime": {
     "end_time": "2020-08-28T23:00:42.009864Z",
     "start_time": "2020-08-28T23:00:42.005875Z"
    }
   },
   "source": [
    "## Parameters - animation_frame\n",
    "In order to use animation with a line chart, I have to treak the data frame a bit. I'll add a new column `year_upto` and for every year I'll hold the data for all previous years.\n",
    "\n",
    "`year_upto   year country visitors`<br>\n",
    "`1995        1995 ESP     1000`<br>\n",
    "`1996        1995 ESP     1000`<br>\n",
    "`1996        1996 ESP     1099`"
   ]
  },
  {
   "cell_type": "code",
   "execution_count": 22,
   "metadata": {
    "ExecuteTime": {
     "end_time": "2020-10-15T13:01:03.317562Z",
     "start_time": "2020-10-15T13:01:03.287642Z"
    }
   },
   "outputs": [
    {
     "name": "stderr",
     "output_type": "stream",
     "text": [
      "<ipython-input-22-f14025d72ae4>:4: SettingWithCopyWarning:\n",
      "\n",
      "\n",
      "A value is trying to be set on a copy of a slice from a DataFrame.\n",
      "Try using .loc[row_indexer,col_indexer] = value instead\n",
      "\n",
      "See the caveats in the documentation: https://pandas.pydata.org/pandas-docs/stable/user_guide/indexing.html#returning-a-view-versus-a-copy\n",
      "\n"
     ]
    }
   ],
   "source": [
    "data = []\n",
    "for y in melted_df[\"years\"].unique():\n",
    "    df = spfrit[spfrit[\"years\"]<=y]\n",
    "    df[\"year_upto\"] = y\n",
    "    data.append(df)\n",
    "spfrit_animation = pd.concat(data)"
   ]
  },
  {
   "cell_type": "code",
   "execution_count": null,
   "metadata": {
    "ExecuteTime": {
     "end_time": "2020-10-15T13:01:03.582853Z",
     "start_time": "2020-10-15T13:01:03.321552Z"
    }
   },
   "outputs": [],
   "source": [
    "px.line(spfrit_animation, \n",
    "        x=\"years\", \n",
    "        y=\"visitors\", \n",
    "        color=\"Country Name\",\n",
    "        title=\"International Visitors\",\n",
    "        range_x=[1995, 2018],\n",
    "        range_y=[25000000,90000000],\n",
    "        animation_frame=\"year_upto\")"
   ]
  },
  {
   "cell_type": "markdown",
   "metadata": {},
   "source": [
    "# The Layout and styling\n",
    "Because every plotly chart contain a background dictionary you can update it using 3 ways. "
   ]
  },
  {
   "cell_type": "code",
   "execution_count": null,
   "metadata": {
    "ExecuteTime": {
     "end_time": "2020-10-15T13:01:03.646716Z",
     "start_time": "2020-10-15T13:01:03.586856Z"
    }
   },
   "outputs": [],
   "source": [
    "# Every graph is a dictionary\n",
    "fig = px.line(country_columns\n",
    "        ,y=\"Spain\"\n",
    "        ,title=\"Visitors to Spain\")\n",
    "\n",
    "# display the data\n",
    "fig.to_dict()"
   ]
  },
  {
   "cell_type": "code",
   "execution_count": null,
   "metadata": {
    "ExecuteTime": {
     "end_time": "2020-10-15T13:01:03.662645Z",
     "start_time": "2020-10-15T13:01:03.647681Z"
    }
   },
   "outputs": [],
   "source": [
    "# 1. using fig.update_layout\n",
    "fig.update_layout(title=\"Visitors to Spain\",\n",
    "                  yaxis_tickformat = '.2f',\n",
    "                  xaxis_title=\"X-axis title \",\n",
    "                  yaxis = {\"title\": \"Y-axis with updated numeric format\",\n",
    "                          \"range\": [10000000,120000000],\n",
    "                          \"scaleanchor\": \"x19\"}\n",
    "                  ,xaxis={})\n",
    "fig.show()"
   ]
  },
  {
   "cell_type": "code",
   "execution_count": null,
   "metadata": {
    "ExecuteTime": {
     "end_time": "2020-10-15T13:01:03.692560Z",
     "start_time": "2020-10-15T13:01:03.664634Z"
    }
   },
   "outputs": [],
   "source": [
    "# 2. update axes using fig.update_yaxes\n",
    "# parameters of the yaxis can be found in the doc - \n",
    "# https://plotly.com/python-api-reference/generated/plotly.graph_objects.layout.yaxis.html?highlight=yaxis#module-plotly.graph_objects.layout.yaxis\n",
    "fig.update_yaxes(title_text=\"different axis title\", \n",
    "                 type=\"linear\", \n",
    "                 ticks=\"inside\", \n",
    "                 color=\"red\")"
   ]
  },
  {
   "cell_type": "code",
   "execution_count": null,
   "metadata": {
    "ExecuteTime": {
     "end_time": "2020-10-15T13:01:03.708517Z",
     "start_time": "2020-10-15T13:01:03.693558Z"
    }
   },
   "outputs": [],
   "source": [
    "# Updating the layout by modifying charts dictionary.\n",
    "# standoff is the distance between the tick labels and the axis title\n",
    "fig[\"layout\"][\"yaxis\"][\"title\"][\"text\"] = \"Y-Axis\"\n",
    "fig[\"layout\"][\"yaxis\"][\"title\"][\"standoff\"] = 150\n",
    "fig[\"layout\"][\"yaxis\"][\"title\"][\"font\"][\"size\"] = 22\n",
    "fig.show()"
   ]
  },
  {
   "cell_type": "markdown",
   "metadata": {
    "ExecuteTime": {
     "end_time": "2020-08-29T20:57:42.638460Z",
     "start_time": "2020-08-29T20:57:42.634502Z"
    }
   },
   "source": [
    "## Templates"
   ]
  },
  {
   "cell_type": "code",
   "execution_count": 28,
   "metadata": {
    "ExecuteTime": {
     "end_time": "2020-10-15T13:01:03.724474Z",
     "start_time": "2020-10-15T13:01:03.710511Z"
    }
   },
   "outputs": [],
   "source": [
    "def fig_reset():\n",
    "    \"\"\"Initialize basic chart\"\"\"\n",
    "    return px.line(spfrit, x=\"years\", y=\"visitors\",\n",
    "                   color=\"Country Name\",\n",
    "                   title=\"International Visitors\")\n"
   ]
  },
  {
   "cell_type": "code",
   "execution_count": null,
   "metadata": {
    "ExecuteTime": {
     "end_time": "2020-10-15T13:01:03.787307Z",
     "start_time": "2020-10-15T13:01:03.725471Z"
    }
   },
   "outputs": [],
   "source": [
    "fig = fig_reset()\n",
    "fig.update_layout(template=\"plotly_dark\")"
   ]
  },
  {
   "cell_type": "markdown",
   "metadata": {},
   "source": [
    "## X and Y-axis\n",
    "Axes are controlling wide range of parameters, like gridlines, ticks, ticklabels, axes titles, spikes, "
   ]
  },
  {
   "cell_type": "code",
   "execution_count": null,
   "metadata": {
    "ExecuteTime": {
     "end_time": "2020-10-15T13:01:03.864101Z",
     "start_time": "2020-10-15T13:01:03.788304Z"
    }
   },
   "outputs": [],
   "source": [
    "df = pd.DataFrame({\"values\": [-2,0,1,2,3,4,4,5,6,7,8]})\n",
    "fig = px.line(df, y=\"values\", color_discrete_sequence=[\"#f66e20\"])\n",
    "fig.update_layout(\n",
    "                template=\"plotly_white\",\n",
    "                title={\"text\":\"Axis Elements\", \"font\": {\"size\": 25}, \"x\": 0.5, \"y\": 0.95},\n",
    "                yaxis={\n",
    "                        \"zerolinecolor\": \"black\",\n",
    "                        \"gridcolor\": \"#0071b3\",\n",
    "                        \"linecolor\": \"#fab22e\",\n",
    "                        \"spikecolor\": \"#cb001c\",\n",
    "                        \"spikesnap\": \"hovered data\",\n",
    "                        \"ticks\": \"inside\",\n",
    "                        \"tickangle\": 30,\n",
    "                        \"ticklen\": 10,\n",
    "                        \"tickwidth\": 2,\n",
    "                        \"tickcolor\": \"#35b729\",\n",
    "                        \"showticklabels\": True,},\n",
    "                 annotations=[\n",
    "                             {\"x\":9, \"y\":0, \"ay\": -40, \n",
    "                               \"text\": \"zeroline\",\n",
    "                               \"arrowhead\": 3, \"showarrow\":True,\n",
    "                                \"font\": {\"size\": 15}},\n",
    "                             {\"x\":7, \"y\":2, \"ay\": 40, \n",
    "                               \"text\": \"gridline\",\n",
    "                               \"arrowhead\": 3, \"showarrow\":True,\n",
    "                               \"font\":{\"color\":\"#0071b3\", \"size\": 15}},\n",
    "                             {\"x\":3, \"y\":3, \"ay\": -60,  \n",
    "                               \"text\": \"spike\",\n",
    "                               \"arrowhead\": 3, \"showarrow\":True,\n",
    "                               \"font\":{\"color\":\"#cb001c\", \"size\": 15}},\n",
    "                             {\"x\":0.0, \"y\": 7, \"ax\": 60, \"ay\": 0,\n",
    "                               \"text\": \"line\",\n",
    "                               \"arrowhead\": 3, \"showarrow\":True,\n",
    "                               \"bgcolor\":\"#fab22e\",\n",
    "                               \"font\": {\"size\": 15}},\n",
    "                             {\"x\":0.05, \"y\":4.10, \"ax\": 60, \"ay\": -35, \n",
    "                               \"text\": \"ticks\",\n",
    "                               \"arrowhead\": 3, \"showarrow\":True,\n",
    "                              \"font\":{\"color\":\"#35b729\", \"size\": 15}},\n",
    "                             {\"x\":0.05, \"y\":5.90, \"ax\": 45, \"ay\": 25, \n",
    "                               \"arrowhead\": 3, \"showarrow\":True,\n",
    "                              \"font\":{\"color\":\"#35b729\", \"size\": 15}}],\n",
    "                    xaxis={\"range\":[0,10]})"
   ]
  },
  {
   "cell_type": "markdown",
   "metadata": {},
   "source": [
    "### Grid Ranges"
   ]
  },
  {
   "cell_type": "code",
   "execution_count": null,
   "metadata": {
    "ExecuteTime": {
     "end_time": "2020-10-15T13:01:03.972811Z",
     "start_time": "2020-10-15T13:01:03.865098Z"
    }
   },
   "outputs": [],
   "source": [
    "fig = fig_reset()\n",
    "# y-ticks are precise location\n",
    "fig.update_layout(yaxis={\"tickvals\":[40000000,70000000], \"title\": \"visitors\"})"
   ]
  },
  {
   "cell_type": "code",
   "execution_count": null,
   "metadata": {
    "ExecuteTime": {
     "end_time": "2020-10-15T13:01:04.019685Z",
     "start_time": "2020-10-15T13:01:03.973810Z"
    }
   },
   "outputs": [],
   "source": [
    "# there is 5 y-ticks\n",
    "fig = fig_reset()\n",
    "fig.update_layout(yaxis={\"tickmode\": \"auto\",\n",
    "                         #\"tick0\": 11000000, \n",
    "                         #\"dtick\":6000000,\n",
    "                         \"nticks\": 5,\n",
    "                         \"title\": \"visitors\"})"
   ]
  },
  {
   "cell_type": "code",
   "execution_count": null,
   "metadata": {
    "ExecuteTime": {
     "end_time": "2020-10-15T13:01:04.067563Z",
     "start_time": "2020-10-15T13:01:04.020690Z"
    }
   },
   "outputs": [],
   "source": [
    "# ticks start at 11M and appear every 6M\n",
    "fig = fig_reset()\n",
    "fig.update_layout(yaxis={\"tickmode\": \"linear\",\n",
    "                         \"tick0\": 11000000, \n",
    "                         \"dtick\":6000000,\n",
    "                         \"title\": \"visitors\"\n",
    "                         })"
   ]
  },
  {
   "cell_type": "markdown",
   "metadata": {},
   "source": [
    "# Annotations\n",
    "4 main use cases for annotation:\n",
    "\n",
    "* To highlight some point(s)\n",
    "* To describe/highlight an area\n",
    "* To label desired point\n",
    "* Instead of a legend\n",
    "\n",
    "I have said that long data structure is ideal for plotly.express. Well, sometimes you can struggle with it too. Like in this case, because the order of the lines depend when they appear in the dataframe a you cannot suprisingly assign color using `color_discrete_sequence`. So I must transform my datagrame into a dictionary with a color assigned to each country. Most countries would be `lightgrey` and the two I want to highlight will have `blue` and `red` color."
   ]
  },
  {
   "cell_type": "code",
   "execution_count": 34,
   "metadata": {
    "ExecuteTime": {
     "end_time": "2020-10-15T13:01:04.097476Z",
     "start_time": "2020-10-15T13:01:04.068557Z"
    }
   },
   "outputs": [
    {
     "data": {
      "text/plain": [
       "{'Aruba': 'lightgrey',\n",
       " 'Japan': 'blue',\n",
       " 'Turkey': 'red',\n",
       " 'Zimbabwe': 'lightgrey'}"
      ]
     },
     "execution_count": 34,
     "metadata": {},
     "output_type": "execute_result"
    }
   ],
   "source": [
    "melted_df_jptr = melted_df.copy()\n",
    "\n",
    "# crete a dict with colors:\n",
    "colors = pd.DataFrame(melted_df_jptr[\"Country Name\"].unique(), columns=[\"Country Name\"])\n",
    "colors[\"color\"] = colors[\"Country Name\"].map({\"Japan\": \"blue\", \"Turkey\": \"red\"}).fillna(\"lightgrey\")\n",
    "\n",
    "# color map is a dict with colors, lightgrey for most, {\"Aruba\": \"lightgrey\", ... \"Japan: \"blue\", ...}\n",
    "color_map = {v[\"Country Name\"]: v[\"color\"] for k,v in colors.iterrows()}\n",
    "\n",
    "# show sample from the dictionary\n",
    "{k:color_map[k] for k in color_map if k in [\"Aruba\",\"Japan\",\"Turkey\",\"Zimbabwe\"]}"
   ]
  },
  {
   "cell_type": "code",
   "execution_count": 35,
   "metadata": {
    "ExecuteTime": {
     "end_time": "2020-10-15T13:01:04.113436Z",
     "start_time": "2020-10-15T13:01:04.098474Z"
    }
   },
   "outputs": [
    {
     "data": {
      "text/html": [
       "<div>\n",
       "<style scoped>\n",
       "    .dataframe tbody tr th:only-of-type {\n",
       "        vertical-align: middle;\n",
       "    }\n",
       "\n",
       "    .dataframe tbody tr th {\n",
       "        vertical-align: top;\n",
       "    }\n",
       "\n",
       "    .dataframe thead th {\n",
       "        text-align: right;\n",
       "    }\n",
       "</style>\n",
       "<table border=\"1\" class=\"dataframe\">\n",
       "  <thead>\n",
       "    <tr style=\"text-align: right;\">\n",
       "      <th></th>\n",
       "      <th>Country Name</th>\n",
       "      <th>Country Code</th>\n",
       "      <th>Region</th>\n",
       "      <th>years</th>\n",
       "      <th>visitors</th>\n",
       "      <th>order</th>\n",
       "    </tr>\n",
       "  </thead>\n",
       "  <tbody>\n",
       "    <tr>\n",
       "      <th>97</th>\n",
       "      <td>Japan</td>\n",
       "      <td>JPN</td>\n",
       "      <td>East Asia &amp; Pacific</td>\n",
       "      <td>1995</td>\n",
       "      <td>3345000.0</td>\n",
       "      <td>1.0</td>\n",
       "    </tr>\n",
       "    <tr>\n",
       "      <th>312</th>\n",
       "      <td>Japan</td>\n",
       "      <td>JPN</td>\n",
       "      <td>East Asia &amp; Pacific</td>\n",
       "      <td>1996</td>\n",
       "      <td>3837000.0</td>\n",
       "      <td>1.0</td>\n",
       "    </tr>\n",
       "    <tr>\n",
       "      <th>527</th>\n",
       "      <td>Japan</td>\n",
       "      <td>JPN</td>\n",
       "      <td>East Asia &amp; Pacific</td>\n",
       "      <td>1997</td>\n",
       "      <td>4218000.0</td>\n",
       "      <td>1.0</td>\n",
       "    </tr>\n",
       "  </tbody>\n",
       "</table>\n",
       "</div>"
      ],
      "text/plain": [
       "    Country Name Country Code               Region years   visitors  order\n",
       "97         Japan          JPN  East Asia & Pacific  1995  3345000.0    1.0\n",
       "312        Japan          JPN  East Asia & Pacific  1996  3837000.0    1.0\n",
       "527        Japan          JPN  East Asia & Pacific  1997  4218000.0    1.0"
      ]
     },
     "execution_count": 35,
     "metadata": {},
     "output_type": "execute_result"
    }
   ],
   "source": [
    "# sort the dataframe\n",
    "\n",
    "melted_df_jptr[\"order\"] = melted_df_jptr[\"Country Name\"].map({\"Japan\": 1, \"Turkey\": 2}).fillna(3)\n",
    "melted_df_jptr.sort_values(by=[\"order\",\"years\"], ascending=True, inplace=True)\n",
    "melted_df_jptr.head(3)"
   ]
  },
  {
   "cell_type": "markdown",
   "metadata": {
    "ExecuteTime": {
     "end_time": "2020-08-30T12:45:21.210190Z",
     "start_time": "2020-08-30T12:45:21.205183Z"
    }
   },
   "source": [
    "Create the plot with the annotations.\n",
    "You can use two reference points:\n",
    "\n",
    "* \"xref\": \"paper\" where 0 is the left side of the plot and 1 the right one\n",
    "* \"xref\": \"x\" (default) which allow to annotate inside the plotting area using chart coordinates"
   ]
  },
  {
   "cell_type": "code",
   "execution_count": null,
   "metadata": {
    "ExecuteTime": {
     "end_time": "2020-10-15T13:01:05.078885Z",
     "start_time": "2020-10-15T13:01:04.114433Z"
    }
   },
   "outputs": [],
   "source": [
    "\n",
    "# but still my lines are somewhere in the middle\n",
    "fig = px.line(melted_df_jptr.sort_values(by=[\"order\",\"years\"], ascending=False),\n",
    "              x=\"years\",\n",
    "              y=\"visitors\", \n",
    "              color=\"Country Name\", \n",
    "              line_group=\"Country Name\",\n",
    "              color_discrete_map=color_map)\n",
    "\n",
    "fig.update_layout(title=\"Tourism Growth in Turkey and Japan\",\n",
    "                # remove the legent\n",
    "                showlegend=False,\n",
    "                  \n",
    "                # make y-axis invisible\n",
    "                yaxis={\"visible\":False},\n",
    "                \n",
    "                xaxis={\"type\": \"linear\"},\n",
    "                \n",
    "                # create the annoations\n",
    "                # point annotattion\n",
    "                annotations=[\n",
    "                        {\"x\":2011, \"y\":6220000, \"ay\": -40, \n",
    "                        \"text\": \"<b>Tourism Boom<br> in Japan 2011</b>\",\n",
    "                        \"arrowhead\": 3, \"showarrow\":True,\n",
    "                        \"font\": {\"size\": 15}},\n",
    "                    # area annotation\n",
    "                    {\"x\":2007, \"y\":40000000, \n",
    "                        \"text\": \"<b>Number of tourist is growing</b>\",\n",
    "                         \"textangle\": -25,\n",
    "                        \"showarrow\":False,\n",
    "                         \"bgcolor\":\"lightblue\",\n",
    "                        \"font\": {\"size\": 15}},\n",
    "                    # start of the line annotation   \n",
    "                    # use the \"xanchor\": \"right\" so that the labels stick to the right side of the plot area\n",
    "                    {\"xref\":\"paper\", \"yref\":\"paper\", \"x\":0, \"y\":0.15,\n",
    "                              \"xanchor\":'right', \"yanchor\":\"top\",\n",
    "                              \"text\":'7M',\n",
    "                              \"font\":dict(family='Arial',\n",
    "                                        size=12,\n",
    "                                        color=\"red\"),\n",
    "                              \"showarrow\":False},\n",
    "                    {\"xref\":\"paper\", \"yref\":\"paper\", \"x\":0, \"y\":0.1,\n",
    "                              \"xanchor\":'right', \"yanchor\":'top',\n",
    "                              \"text\":'3.3M',\n",
    "                              \"font\":dict(family='Arial',\n",
    "                                        size=12,\n",
    "                                        color=\"blue\"),\n",
    "                              \"showarrow\":False},\n",
    "                    # end of the line legend\n",
    "                    # use the \"xanchor\": \"left\" so that the labels stick to the right side of the plot area\n",
    "                    {\"xref\":\"paper\", \"yref\":\"paper\", \"x\":1, \"y\":0.53,\n",
    "                              \"xanchor\":\"left\", \"yanchor\":\"top\",\n",
    "                              \"text\":'Turkey (45M)',\n",
    "                              \"font\":dict(family='Arial',\n",
    "                                        size=12,\n",
    "                                        color=\"red\"),\n",
    "                              \"showarrow\":False},\n",
    "                    {\"xref\":\"paper\", \"yref\":\"paper\", \"x\":1, \"y\":0.39,\n",
    "                              \"xanchor\":'left', \"yanchor\":'top',\n",
    "                              \"text\":'Japan (31M)',\n",
    "                              \"font\":dict(family='Arial',\n",
    "                                        size=12,\n",
    "                                        color=\"blue\"),\n",
    "                              \"showarrow\":False}\n",
    "                    \n",
    "                ])\n",
    "fig.show()"
   ]
  },
  {
   "cell_type": "markdown",
   "metadata": {},
   "source": [
    "You might also notice, that with increased number of lines, Plotly automatically switched to WebGL format proven to improve the usability of the JavaScript plots with many data points."
   ]
  },
  {
   "cell_type": "code",
   "execution_count": 37,
   "metadata": {
    "ExecuteTime": {
     "end_time": "2020-10-15T13:01:05.093814Z",
     "start_time": "2020-10-15T13:01:05.079852Z"
    }
   },
   "outputs": [
    {
     "data": {
      "text/plain": [
       "plotly.graph_objs._scattergl.Scattergl"
      ]
     },
     "execution_count": 37,
     "metadata": {},
     "output_type": "execute_result"
    }
   ],
   "source": [
    "type(fig.data[0])"
   ]
  },
  {
   "cell_type": "markdown",
   "metadata": {},
   "source": [
    "How to create this chart is described in the article - https://towardsdatascience.com/highlighted-line-chart-with-plotly-express-e69e2a27fea8 and notebook: https://github.com/vaclavdekanovsky/data-analysis-in-examples/blob/master/Vizualizations/Plotly/Highlighted_Line_Chart_on_Grey_Lines_Background/Highlight_Lines_on_Grey_Background.ipynb"
   ]
  },
  {
   "cell_type": "markdown",
   "metadata": {
    "ExecuteTime": {
     "end_time": "2020-08-30T12:58:45.446630Z",
     "start_time": "2020-08-30T12:58:45.443640Z"
    }
   },
   "source": [
    "# Bar Chart"
   ]
  },
  {
   "cell_type": "code",
   "execution_count": null,
   "metadata": {
    "ExecuteTime": {
     "end_time": "2020-10-15T13:01:05.156646Z",
     "start_time": "2020-10-15T13:01:05.094819Z"
    }
   },
   "outputs": [],
   "source": [
    "fig = px.bar(spfrit, \n",
    "             y=\"visitors\", \n",
    "             x=\"years\", \n",
    "             color=\"Country Name\",\n",
    "            title=\"Visitors to Europe - Bar Mode Group\",\n",
    "            barmode='group')\n",
    "fig.update_layout(\n",
    "        xaxis={\"tick0\":1995, \"dtick\":1, \"tickangle\": 30}\n",
    ")"
   ]
  },
  {
   "cell_type": "markdown",
   "metadata": {},
   "source": [
    "Let's plot just year 2018 to see which country was the most often visited"
   ]
  },
  {
   "cell_type": "code",
   "execution_count": null,
   "metadata": {
    "ExecuteTime": {
     "end_time": "2020-10-15T13:01:05.219478Z",
     "start_time": "2020-10-15T13:01:05.158641Z"
    }
   },
   "outputs": [],
   "source": [
    "arr_2018 = melted_df[melted_df[\"years\"]==\"2018\"]\n",
    "fig = px.bar(arr_2018.sort_values(by=\"visitors\", ascending=False), \n",
    "             y=\"visitors\", \n",
    "             x=\"Country Name\", \n",
    "            title=\"World Tourism 2018\",\n",
    "            barmode='group')\n",
    "fig.show()"
   ]
  },
  {
   "cell_type": "markdown",
   "metadata": {
    "ExecuteTime": {
     "end_time": "2020-08-30T13:14:21.751829Z",
     "start_time": "2020-08-30T13:14:21.747873Z"
    }
   },
   "source": [
    "The chart like this provides some information, but it's not very readable. Let's take top 15 countries and group the rest into \"Other\""
   ]
  },
  {
   "cell_type": "code",
   "execution_count": 40,
   "metadata": {
    "ExecuteTime": {
     "end_time": "2020-10-15T13:01:05.235467Z",
     "start_time": "2020-10-15T13:01:05.220475Z"
    }
   },
   "outputs": [
    {
     "name": "stderr",
     "output_type": "stream",
     "text": [
      "<ipython-input-40-f0926b9eeb91>:2: SettingWithCopyWarning:\n",
      "\n",
      "\n",
      "A value is trying to be set on a copy of a slice from a DataFrame.\n",
      "Try using .loc[row_indexer,col_indexer] = value instead\n",
      "\n",
      "See the caveats in the documentation: https://pandas.pydata.org/pandas-docs/stable/user_guide/indexing.html#returning-a-view-versus-a-copy\n",
      "\n"
     ]
    }
   ],
   "source": [
    "# for the most visited in 2018 take name, for others use label \"Other\"\n",
    "arr_2018[\"2018_name\"] = arr_2018[\"Country Name\"].where(arr_2018[\"visitors\"].rank(ascending=False) <= 25, \"Other\")"
   ]
  },
  {
   "cell_type": "code",
   "execution_count": null,
   "metadata": {
    "ExecuteTime": {
     "end_time": "2020-10-15T13:01:05.282311Z",
     "start_time": "2020-10-15T13:01:05.236434Z"
    }
   },
   "outputs": [],
   "source": [
    "fig = px.bar(arr_2018.sort_values(by=\"visitors\", ascending=False), \n",
    "             y=\"visitors\", \n",
    "             x=\"2018_name\", \n",
    "            title=\"World Tourism 2018\",\n",
    "            barmode='group',\n",
    "             hover_data = {\"2018_name\": False, \"Country Name\": True}\n",
    "            )\n",
    "fig.show()"
   ]
  },
  {
   "cell_type": "markdown",
   "metadata": {},
   "source": [
    "Top 20 counties, text labels through `text` parameter and formated using `update_traces` and changing the bar color via `color_discrete_sequence` parameter. "
   ]
  },
  {
   "cell_type": "code",
   "execution_count": null,
   "metadata": {
    "ExecuteTime": {
     "end_time": "2020-10-15T13:01:05.328188Z",
     "start_time": "2020-10-15T13:01:05.285305Z"
    }
   },
   "outputs": [],
   "source": [
    "fig = px.bar(arr_2018.sort_values(by=\"visitors\", ascending=False)[:20], \n",
    "             y=\"visitors\", \n",
    "             x=\"2018_name\", \n",
    "            title=\"World Tourism 2018\",\n",
    "            barmode='group',\n",
    "            hover_data = {\"2018_name\": False, \"Country Name\": True},\n",
    "             text=\"visitors\",\n",
    "             #color=\"2018_name\"  # for some reason it makes the bars very thin\n",
    "             color_discrete_sequence =[\"#008037\"]\n",
    "            )\n",
    "fig.update_traces(texttemplate='%{text:.2s}', \n",
    "                  textposition=\"outside\",\n",
    "                 )\n",
    "fig.update_layout(xaxis={\"title\":\"countries\"})\n",
    "fig.show()"
   ]
  },
  {
   "cell_type": "code",
   "execution_count": null,
   "metadata": {
    "ExecuteTime": {
     "end_time": "2020-10-15T13:01:05.360103Z",
     "start_time": "2020-10-15T13:01:05.330185Z"
    }
   },
   "outputs": [],
   "source": [
    "arr_2018"
   ]
  },
  {
   "cell_type": "markdown",
   "metadata": {
    "ExecuteTime": {
     "end_time": "2020-08-30T13:23:27.684426Z",
     "start_time": "2020-08-30T13:23:27.680435Z"
    }
   },
   "source": [
    "The other column is still too high, you can play with it and split it by continent. But let's explore another feature of Plotly, the continuous color scale. If we set color as a column with numerical range, rather than categorical, we automatically get the continuous color scale. You can apply various predefined color scales:\n",
    "https://plotly.com/python/builtin-colorscales/"
   ]
  },
  {
   "cell_type": "code",
   "execution_count": null,
   "metadata": {
    "ExecuteTime": {
     "end_time": "2020-10-15T13:01:05.439926Z",
     "start_time": "2020-10-15T13:01:05.361102Z"
    }
   },
   "outputs": [],
   "source": [
    "fig = px.bar(arr_2018.fillna(0).sort_values(by=\"visitors\", ascending=False), \n",
    "             y=\"visitors\", \n",
    "             x=\"2018_name\", \n",
    "            title=\"World Tourism 2018\",\n",
    "            barmode='group',\n",
    "             hover_data = {\"2018_name\": False, \"Country Name\": True},\n",
    "             color = \"visitors\",\n",
    "             color_continuous_scale=px.colors.sequential.Viridis\n",
    "            )\n",
    "fig.update_layout(xaxis={\"title\":\"countries\"})\n",
    "fig.show()"
   ]
  },
  {
   "cell_type": "markdown",
   "metadata": {},
   "source": [
    "## Combine bar and line chart"
   ]
  },
  {
   "cell_type": "code",
   "execution_count": 45,
   "metadata": {
    "ExecuteTime": {
     "end_time": "2020-10-15T13:01:05.455847Z",
     "start_time": "2020-10-15T13:01:05.440888Z"
    }
   },
   "outputs": [],
   "source": [
    "# Create simple dataset\n",
    "df = pd.DataFrame({\"revenue\":[100,200,300], \"cost\":[-150,-150,-200], \"year\":[2018,2019,2020]})\n",
    "df[\"profit\"] = df[\"revenue\"]+df[\"cost\"]"
   ]
  },
  {
   "cell_type": "code",
   "execution_count": null,
   "metadata": {
    "ExecuteTime": {
     "end_time": "2020-10-15T13:01:05.501730Z",
     "start_time": "2020-10-15T13:01:05.456846Z"
    }
   },
   "outputs": [],
   "source": [
    "# adding line to a bar doesn't work\n",
    "\n",
    "fig = px.bar(df, x=\"year\", y=[\"revenue\",\"cost\"], title=\"Bar chart without any line\")\n",
    "try:\n",
    "    fig.add_line(x=df[\"year\"],y=df[\"profit\"])\n",
    "except Exception as e:\n",
    "    print(e)\n",
    "fig.show()"
   ]
  },
  {
   "cell_type": "code",
   "execution_count": null,
   "metadata": {
    "ExecuteTime": {
     "end_time": "2020-10-15T13:01:05.547602Z",
     "start_time": "2020-10-15T13:01:05.502722Z"
    }
   },
   "outputs": [],
   "source": [
    "# adding bars to line chart is possible, but not very flexible. \n",
    "fig = px.line(df, x=\"year\", y=\"profit\", title=\"Profit\")\n",
    "fig.add_bar(x=df[\"year\"],y=df[\"revenue\"], name=\"revenue\")\n",
    "fig.add_bar(x=df[\"year\"],y=df[\"cost\"], name=\"cost\")\n",
    "fig.show()"
   ]
  },
  {
   "cell_type": "code",
   "execution_count": 48,
   "metadata": {
    "ExecuteTime": {
     "end_time": "2020-10-15T13:01:05.579548Z",
     "start_time": "2020-10-15T13:01:05.549597Z"
    }
   },
   "outputs": [
    {
     "data": {
      "text/html": [
       "<div>\n",
       "<style scoped>\n",
       "    .dataframe tbody tr th:only-of-type {\n",
       "        vertical-align: middle;\n",
       "    }\n",
       "\n",
       "    .dataframe tbody tr th {\n",
       "        vertical-align: top;\n",
       "    }\n",
       "\n",
       "    .dataframe thead th {\n",
       "        text-align: right;\n",
       "    }\n",
       "</style>\n",
       "<table border=\"1\" class=\"dataframe\">\n",
       "  <thead>\n",
       "    <tr style=\"text-align: right;\">\n",
       "      <th></th>\n",
       "      <th>Country Name</th>\n",
       "      <th>Country Code</th>\n",
       "      <th>Region</th>\n",
       "      <th>years</th>\n",
       "      <th>visitors</th>\n",
       "      <th>year_upto</th>\n",
       "    </tr>\n",
       "  </thead>\n",
       "  <tbody>\n",
       "    <tr>\n",
       "      <th>58</th>\n",
       "      <td>Spain</td>\n",
       "      <td>ESP</td>\n",
       "      <td>Europe &amp; Central Asia</td>\n",
       "      <td>1995</td>\n",
       "      <td>32971000.0</td>\n",
       "      <td>1995</td>\n",
       "    </tr>\n",
       "    <tr>\n",
       "      <th>63</th>\n",
       "      <td>France</td>\n",
       "      <td>FRA</td>\n",
       "      <td>Europe &amp; Central Asia</td>\n",
       "      <td>1995</td>\n",
       "      <td>60033000.0</td>\n",
       "      <td>1995</td>\n",
       "    </tr>\n",
       "    <tr>\n",
       "      <th>94</th>\n",
       "      <td>Italy</td>\n",
       "      <td>ITA</td>\n",
       "      <td>Europe &amp; Central Asia</td>\n",
       "      <td>1995</td>\n",
       "      <td>31052000.0</td>\n",
       "      <td>1995</td>\n",
       "    </tr>\n",
       "    <tr>\n",
       "      <th>58</th>\n",
       "      <td>Spain</td>\n",
       "      <td>ESP</td>\n",
       "      <td>Europe &amp; Central Asia</td>\n",
       "      <td>1995</td>\n",
       "      <td>32971000.0</td>\n",
       "      <td>1996</td>\n",
       "    </tr>\n",
       "    <tr>\n",
       "      <th>63</th>\n",
       "      <td>France</td>\n",
       "      <td>FRA</td>\n",
       "      <td>Europe &amp; Central Asia</td>\n",
       "      <td>1995</td>\n",
       "      <td>60033000.0</td>\n",
       "      <td>1996</td>\n",
       "    </tr>\n",
       "    <tr>\n",
       "      <th>...</th>\n",
       "      <td>...</td>\n",
       "      <td>...</td>\n",
       "      <td>...</td>\n",
       "      <td>...</td>\n",
       "      <td>...</td>\n",
       "      <td>...</td>\n",
       "    </tr>\n",
       "    <tr>\n",
       "      <th>4793</th>\n",
       "      <td>France</td>\n",
       "      <td>FRA</td>\n",
       "      <td>Europe &amp; Central Asia</td>\n",
       "      <td>2017</td>\n",
       "      <td>86758000.0</td>\n",
       "      <td>2018</td>\n",
       "    </tr>\n",
       "    <tr>\n",
       "      <th>4824</th>\n",
       "      <td>Italy</td>\n",
       "      <td>ITA</td>\n",
       "      <td>Europe &amp; Central Asia</td>\n",
       "      <td>2017</td>\n",
       "      <td>58253000.0</td>\n",
       "      <td>2018</td>\n",
       "    </tr>\n",
       "    <tr>\n",
       "      <th>5003</th>\n",
       "      <td>Spain</td>\n",
       "      <td>ESP</td>\n",
       "      <td>Europe &amp; Central Asia</td>\n",
       "      <td>2018</td>\n",
       "      <td>82773000.0</td>\n",
       "      <td>2018</td>\n",
       "    </tr>\n",
       "    <tr>\n",
       "      <th>5008</th>\n",
       "      <td>France</td>\n",
       "      <td>FRA</td>\n",
       "      <td>Europe &amp; Central Asia</td>\n",
       "      <td>2018</td>\n",
       "      <td>89322000.0</td>\n",
       "      <td>2018</td>\n",
       "    </tr>\n",
       "    <tr>\n",
       "      <th>5039</th>\n",
       "      <td>Italy</td>\n",
       "      <td>ITA</td>\n",
       "      <td>Europe &amp; Central Asia</td>\n",
       "      <td>2018</td>\n",
       "      <td>61567200.0</td>\n",
       "      <td>2018</td>\n",
       "    </tr>\n",
       "  </tbody>\n",
       "</table>\n",
       "<p>900 rows × 6 columns</p>\n",
       "</div>"
      ],
      "text/plain": [
       "     Country Name Country Code                 Region years    visitors  \\\n",
       "58          Spain          ESP  Europe & Central Asia  1995  32971000.0   \n",
       "63         France          FRA  Europe & Central Asia  1995  60033000.0   \n",
       "94          Italy          ITA  Europe & Central Asia  1995  31052000.0   \n",
       "58          Spain          ESP  Europe & Central Asia  1995  32971000.0   \n",
       "63         France          FRA  Europe & Central Asia  1995  60033000.0   \n",
       "...           ...          ...                    ...   ...         ...   \n",
       "4793       France          FRA  Europe & Central Asia  2017  86758000.0   \n",
       "4824        Italy          ITA  Europe & Central Asia  2017  58253000.0   \n",
       "5003        Spain          ESP  Europe & Central Asia  2018  82773000.0   \n",
       "5008       France          FRA  Europe & Central Asia  2018  89322000.0   \n",
       "5039        Italy          ITA  Europe & Central Asia  2018  61567200.0   \n",
       "\n",
       "     year_upto  \n",
       "58        1995  \n",
       "63        1995  \n",
       "94        1995  \n",
       "58        1996  \n",
       "63        1996  \n",
       "...        ...  \n",
       "4793      2018  \n",
       "4824      2018  \n",
       "5003      2018  \n",
       "5008      2018  \n",
       "5039      2018  \n",
       "\n",
       "[900 rows x 6 columns]"
      ]
     },
     "execution_count": 48,
     "metadata": {},
     "output_type": "execute_result"
    }
   ],
   "source": [
    "pd.concat(data)"
   ]
  },
  {
   "cell_type": "markdown",
   "metadata": {},
   "source": [
    "## Animated Bar Chart"
   ]
  },
  {
   "cell_type": "code",
   "execution_count": null,
   "metadata": {
    "ExecuteTime": {
     "end_time": "2020-10-15T13:01:05.767017Z",
     "start_time": "2020-10-15T13:01:05.580514Z"
    }
   },
   "outputs": [],
   "source": [
    "data = []\n",
    "for y in melted_df[\"years\"].unique():\n",
    "    sub_df = melted_df[melted_df[\"years\"]==y].sort_values(by=\"visitors\", ascending=False)[:10]\n",
    "    data.append(sub_df)\n",
    "\n",
    "fig = px.bar(pd.concat(data).sort_values(by=\"visitors\", ascending=True), \n",
    "             y=\"Country Name\", x=\"visitors\", \n",
    "             orientation=\"h\", animation_frame=\"years\",\n",
    "            title=\"Evolution of Tourism\",\n",
    "            text=\"visitors\")\n",
    "fig.update_layout(xaxis={\"range\":[0,100000000]},\n",
    "                 yaxis={\"title\":{\"standoff\":150}, \"tickwidth\": 200, \"automargin\": True})\n",
    "                  #yaxis={\"title\":{\"standoff\":150}, \"ticklen\": 200, \"automargin\": False})\n",
    "fig.update_traces(texttemplate='%{text:.2s}', \n",
    "                  textposition=\"outside\"\n",
    "                 )"
   ]
  },
  {
   "cell_type": "markdown",
   "metadata": {},
   "source": [
    "# Histograms\n",
    "There's separater article and notebook going into the details of the Plotly Express histograms. \n",
    "\n",
    "* Article: https://towardsdatascience.com/histograms-with-plotly-express-complete-guide-d483656c5ad7\n",
    "* Notebook: https://github.com/vaclavdekanovsky/data-analysis-in-examples/blob/master/Vizualizations/Plotly/Histogram/Histograms.ipynb"
   ]
  },
  {
   "cell_type": "markdown",
   "metadata": {},
   "source": [
    "# Pie Chart"
   ]
  },
  {
   "cell_type": "code",
   "execution_count": null,
   "metadata": {
    "ExecuteTime": {
     "end_time": "2020-10-15T13:01:05.828880Z",
     "start_time": "2020-10-15T13:01:05.768014Z"
    }
   },
   "outputs": [],
   "source": [
    "fig = px.pie(arr_2018.sort_values(by=\"visitors\", ascending=False), \n",
    "             values=\"visitors\", \n",
    "             names=\"2018_name\",\n",
    "             # rename the label on the hover\n",
    "             labels={'2018_name':'country'},\n",
    "            title=\"2018 visitors\")\n",
    "fig.update_traces(textposition='inside', textinfo='percent+value+label')\n",
    "fig.update_traces(pull=[.3,.2,.1])"
   ]
  },
  {
   "cell_type": "markdown",
   "metadata": {
    "ExecuteTime": {
     "end_time": "2020-08-31T18:30:59.330985Z",
     "start_time": "2020-08-31T18:30:59.327992Z"
    }
   },
   "source": [
    "## Donnut chart - pie with hole"
   ]
  },
  {
   "cell_type": "code",
   "execution_count": null,
   "metadata": {
    "ExecuteTime": {
     "end_time": "2020-10-15T13:01:05.874759Z",
     "start_time": "2020-10-15T13:01:05.829849Z"
    }
   },
   "outputs": [],
   "source": [
    "fig = px.pie(arr_2018.sort_values(by=\"visitors\", ascending=False)[:10], \n",
    "             values=\"visitors\", \n",
    "             names=\"2018_name\",\n",
    "             # rename the label on the hover\n",
    "             labels={'2018_name':'country'},\n",
    "            title=\"2018 visitors\",\n",
    "            hole=.3)\n",
    "fig.update_traces(textposition='inside', textinfo='percent+label')"
   ]
  },
  {
   "cell_type": "markdown",
   "metadata": {
    "ExecuteTime": {
     "end_time": "2020-08-31T18:34:51.251009Z",
     "start_time": "2020-08-31T18:34:51.247020Z"
    }
   },
   "source": [
    "# Sunburts plot"
   ]
  },
  {
   "cell_type": "code",
   "execution_count": null,
   "metadata": {
    "ExecuteTime": {
     "end_time": "2020-10-15T13:01:05.983437Z",
     "start_time": "2020-10-15T13:01:05.875726Z"
    }
   },
   "outputs": [],
   "source": [
    "chart_df = arr_2018.sort_values(by=\"visitors\", ascending=False)[:10]\n",
    "chart_df[\"visitors\"] = round(chart_df[\"visitors\"]/10000000)\n",
    "chart_df[\"visitors\"] = chart_df[\"visitors\"].astype(int)\n",
    "fig = px.sunburst(\n",
    "    chart_df,\n",
    "    path=['Region', '2018_name'],\n",
    "    values='visitors',\n",
    ")\n",
    "fig.show()"
   ]
  },
  {
   "cell_type": "markdown",
   "metadata": {
    "ExecuteTime": {
     "end_time": "2020-08-31T19:11:25.877989Z",
     "start_time": "2020-08-31T19:11:25.873994Z"
    }
   },
   "source": [
    "# Treemap"
   ]
  },
  {
   "cell_type": "code",
   "execution_count": null,
   "metadata": {
    "ExecuteTime": {
     "end_time": "2020-10-15T13:01:06.125060Z",
     "start_time": "2020-10-15T13:01:05.984435Z"
    }
   },
   "outputs": [],
   "source": [
    "fig = px.treemap(arr_2018.sort_values(by=\"visitors\", ascending=False)[:50], \n",
    "             values=\"visitors\", \n",
    "             path=['Region', 'Country Name'],\n",
    "             color=\"visitors\",\n",
    "            title=\"2018 visitors (top 50 countries)\",\n",
    "            color_continuous_scale='RdBu',\n",
    "            #color_continuous_midpoint=20000000\n",
    "           )\n",
    "fig.show()"
   ]
  },
  {
   "cell_type": "code",
   "execution_count": null,
   "metadata": {
    "ExecuteTime": {
     "end_time": "2020-10-15T13:01:06.201854Z",
     "start_time": "2020-10-15T13:01:06.127053Z"
    }
   },
   "outputs": [],
   "source": [
    "fig = px.treemap(arr_2018.sort_values(by=\"visitors\", ascending=False)[:50], \n",
    "            values=\"visitors\", \n",
    "            path=['Region', 'Country Name'],\n",
    "            color=\"Region\",\n",
    "            title=\"2018 visitors (top 50 countries)\",\n",
    "            hover_data={\"Region\":False},\n",
    "            labels={'labels':'Country'},\n",
    "           )\n",
    "fig.show()"
   ]
  },
  {
   "cell_type": "markdown",
   "metadata": {
    "ExecuteTime": {
     "end_time": "2020-08-31T19:30:15.447221Z",
     "start_time": "2020-08-31T19:30:15.444229Z"
    }
   },
   "source": [
    "# Chropleth\n",
    "Working with the geospacial data, especially on the country level is easy with plotly. "
   ]
  },
  {
   "cell_type": "code",
   "execution_count": null,
   "metadata": {
    "ExecuteTime": {
     "end_time": "2020-10-15T13:01:06.295618Z",
     "start_time": "2020-10-15T13:01:06.202852Z"
    }
   },
   "outputs": [],
   "source": [
    "fig = px.choropleth(\n",
    "    arr_2018, \n",
    "    locations=\"Country Code\",                    \n",
    "    color=\"visitors\",\n",
    "    hover_name=\"Country Name\", # column to add to hover information\n",
    "    color_continuous_scale=px.colors.sequential.matter)\n",
    "fig.show()"
   ]
  },
  {
   "cell_type": "markdown",
   "metadata": {},
   "source": [
    "zoom in with `scope`"
   ]
  },
  {
   "cell_type": "code",
   "execution_count": null,
   "metadata": {
    "ExecuteTime": {
     "end_time": "2020-10-15T13:01:06.343475Z",
     "start_time": "2020-10-15T13:01:06.296602Z"
    }
   },
   "outputs": [],
   "source": [
    "fig = px.choropleth(arr_2018, locations=\"Country Code\",\n",
    "                    color=\"visitors\", # lifeExp is a column of gapminder\n",
    "                    hover_name=\"Country Name\", # column to add to hover information\n",
    "                    color_continuous_scale=px.colors.sequential.matter,\n",
    "                   scope=\"south america\"\n",
    "                   )          \n",
    "fig.show()"
   ]
  },
  {
   "cell_type": "markdown",
   "metadata": {
    "ExecuteTime": {
     "end_time": "2020-08-31T20:15:58.843986Z",
     "start_time": "2020-08-31T20:15:58.840986Z"
    }
   },
   "source": [
    "# Scatterplot\n",
    "## World map"
   ]
  },
  {
   "cell_type": "code",
   "execution_count": null,
   "metadata": {
    "ExecuteTime": {
     "end_time": "2020-10-15T13:01:06.658632Z",
     "start_time": "2020-10-15T13:01:06.344473Z"
    }
   },
   "outputs": [],
   "source": [
    "fig = px.scatter_geo(\n",
    "    melted_df.fillna(0), \n",
    "    locations =\"Country Code\", \n",
    "    color=\"visitors\",\n",
    "    size=\"visitors\",\n",
    "    # what is the size of the biggest scatter point\n",
    "    size_max = 30,\n",
    "    projection=\"natural earth\",\n",
    "    # range, important to keep the same range on all charts\n",
    "    range_color=(0, 100000000),\n",
    "    # columns which is in bold in the pop up\n",
    "    hover_name = \"Country Name\",\n",
    "    # format of the popup not to display these columns' data\n",
    "    hover_data = {\"Country Name\":False, \"Country Code\": False},\n",
    "    title=\"International Tourism\",\n",
    "    animation_frame=\"years\"\n",
    "                     )\n",
    "fig.update_geos(showcountries = True)\n",
    "fig.show()"
   ]
  },
  {
   "cell_type": "markdown",
   "metadata": {},
   "source": [
    "To get some relations into the data, let's combine the number of visitors with the income these visitors have brought to the countries. In this case, I will join melted receipts to metled visitors to have two columns with data. These can be assigned to `x` and `y` of the plot."
   ]
  },
  {
   "cell_type": "code",
   "execution_count": 58,
   "metadata": {
    "ExecuteTime": {
     "end_time": "2020-10-15T13:01:06.689580Z",
     "start_time": "2020-10-15T13:01:06.659631Z"
    }
   },
   "outputs": [
    {
     "data": {
      "text/html": [
       "<div>\n",
       "<style scoped>\n",
       "    .dataframe tbody tr th:only-of-type {\n",
       "        vertical-align: middle;\n",
       "    }\n",
       "\n",
       "    .dataframe tbody tr th {\n",
       "        vertical-align: top;\n",
       "    }\n",
       "\n",
       "    .dataframe thead th {\n",
       "        text-align: right;\n",
       "    }\n",
       "</style>\n",
       "<table border=\"1\" class=\"dataframe\">\n",
       "  <thead>\n",
       "    <tr style=\"text-align: right;\">\n",
       "      <th></th>\n",
       "      <th>Country Name</th>\n",
       "      <th>Country Code</th>\n",
       "      <th>Region</th>\n",
       "      <th>years</th>\n",
       "      <th>visitors</th>\n",
       "      <th>receipts</th>\n",
       "    </tr>\n",
       "  </thead>\n",
       "  <tbody>\n",
       "    <tr>\n",
       "      <th>4541</th>\n",
       "      <td>Brazil</td>\n",
       "      <td>BRA</td>\n",
       "      <td>Latin America &amp; Caribbean</td>\n",
       "      <td>2016</td>\n",
       "      <td>6547000.0</td>\n",
       "      <td>6.613000e+09</td>\n",
       "    </tr>\n",
       "    <tr>\n",
       "      <th>1584</th>\n",
       "      <td>Guam</td>\n",
       "      <td>GUM</td>\n",
       "      <td>East Asia &amp; Pacific</td>\n",
       "      <td>2002</td>\n",
       "      <td>1059000.0</td>\n",
       "      <td>0.000000e+00</td>\n",
       "    </tr>\n",
       "    <tr>\n",
       "      <th>3916</th>\n",
       "      <td>Cayman Islands</td>\n",
       "      <td>CYM</td>\n",
       "      <td>Latin America &amp; Caribbean</td>\n",
       "      <td>2013</td>\n",
       "      <td>345000.0</td>\n",
       "      <td>5.000000e+08</td>\n",
       "    </tr>\n",
       "  </tbody>\n",
       "</table>\n",
       "</div>"
      ],
      "text/plain": [
       "        Country Name Country Code                     Region years   visitors  \\\n",
       "4541          Brazil          BRA  Latin America & Caribbean  2016  6547000.0   \n",
       "1584            Guam          GUM        East Asia & Pacific  2002  1059000.0   \n",
       "3916  Cayman Islands          CYM  Latin America & Caribbean  2013   345000.0   \n",
       "\n",
       "          receipts  \n",
       "4541  6.613000e+09  \n",
       "1584  0.000000e+00  \n",
       "3916  5.000000e+08  "
      ]
     },
     "execution_count": 58,
     "metadata": {},
     "output_type": "execute_result"
    }
   ],
   "source": [
    "year_receipts = pd.read_pickle(\"rec.plk\")\n",
    "melted_receipts = year_receipts.melt(id_vars=[\"Country Name\",\"Country Code\"], \n",
    "                              var_name=\"years\",\n",
    "                             value_name=\"receipts\")\n",
    "scatter_df = melted_df.merge(melted_receipts, on=[\"Country Name\",\"Country Code\",\"years\"]).fillna(0)\n",
    "scatter_df.sample(3)"
   ]
  },
  {
   "cell_type": "code",
   "execution_count": null,
   "metadata": {
    "ExecuteTime": {
     "end_time": "2020-10-15T13:01:06.784297Z",
     "start_time": "2020-10-15T13:01:06.690548Z"
    }
   },
   "outputs": [],
   "source": [
    "px.scatter(scatter_df[scatter_df[\"years\"]==\"2018\"],\n",
    "          x=\"visitors\",\n",
    "          y=\"receipts\",\n",
    "          color=\"Region\",\n",
    "          hover_name=\"Country Name\",\n",
    "          size=\"receipts\")"
   ]
  },
  {
   "cell_type": "code",
   "execution_count": null,
   "metadata": {
    "ExecuteTime": {
     "end_time": "2020-10-15T13:01:08.554940Z",
     "start_time": "2020-10-15T13:01:06.785294Z"
    }
   },
   "outputs": [],
   "source": [
    "px.scatter(scatter_df[scatter_df[\"years\"]==\"2018\"],\n",
    "          x=\"visitors\",\n",
    "          y=\"receipts\",\n",
    "          #color=\"Region\",\n",
    "          hover_name=\"Country Name\",\n",
    "          size=\"receipts\",\n",
    "          marginal_x=\"rug\",\n",
    "          marginal_y=\"violin\",\n",
    "          trendline=\"lowess\")"
   ]
  }
 ],
 "metadata": {
  "kernelspec": {
   "display_name": "Python [conda env:plotly]",
   "language": "python",
   "name": "conda-env-plotly-py"
  },
  "language_info": {
   "codemirror_mode": {
    "name": "ipython",
    "version": 3
   },
   "file_extension": ".py",
   "mimetype": "text/x-python",
   "name": "python",
   "nbconvert_exporter": "python",
   "pygments_lexer": "ipython3",
   "version": "3.8.5"
  },
  "toc": {
   "base_numbering": 1,
   "nav_menu": {},
   "number_sections": true,
   "sideBar": true,
   "skip_h1_title": false,
   "title_cell": "Table of Contents",
   "title_sidebar": "Contents",
   "toc_cell": false,
   "toc_position": {},
   "toc_section_display": true,
   "toc_window_display": false
  },
  "varInspector": {
   "cols": {
    "lenName": 16,
    "lenType": 16,
    "lenVar": 40
   },
   "kernels_config": {
    "python": {
     "delete_cmd_postfix": "",
     "delete_cmd_prefix": "del ",
     "library": "var_list.py",
     "varRefreshCmd": "print(var_dic_list())"
    },
    "r": {
     "delete_cmd_postfix": ") ",
     "delete_cmd_prefix": "rm(",
     "library": "var_list.r",
     "varRefreshCmd": "cat(var_dic_list()) "
    }
   },
   "types_to_exclude": [
    "module",
    "function",
    "builtin_function_or_method",
    "instance",
    "_Feature"
   ],
   "window_display": false
  }
 },
 "nbformat": 4,
 "nbformat_minor": 2
}
